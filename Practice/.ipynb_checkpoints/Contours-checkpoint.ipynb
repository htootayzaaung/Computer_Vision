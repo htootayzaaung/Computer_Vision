{
 "cells": [
  {
   "cell_type": "markdown",
   "id": "db453793",
   "metadata": {},
   "source": [
    "<h2><b>Contours</b></h2><br>"
   ]
  },
  {
   "cell_type": "code",
   "execution_count": null,
   "id": "853c5ddf",
   "metadata": {},
   "outputs": [],
   "source": [
    "# Import Necessary library\n",
    "import cv2\n",
    "import numpy as np\n",
    "import matplotlib.pyplot as plt\n",
    "%matplotlib inline"
   ]
  },
  {
   "cell_type": "code",
   "execution_count": null,
   "id": "3c0ae3d5",
   "metadata": {},
   "outputs": [],
   "source": [
    "# Read Input image\n",
    "image = cv2.imread(\"../Images/twod_shapes.png\")\n",
    "cv2.waitKey(0)\n",
    "gray = cv2.cvtColor(image, cv2.COLOR_BGR2GRAY)\n",
    "plt.imshow(gray)\n",
    "plt.show()\n"
   ]
  }
 ],
 "metadata": {
  "kernelspec": {
   "display_name": "Python 3 (ipykernel)",
   "language": "python",
   "name": "python3"
  },
  "language_info": {
   "codemirror_mode": {
    "name": "ipython",
    "version": 3
   },
   "file_extension": ".py",
   "mimetype": "text/x-python",
   "name": "python",
   "nbconvert_exporter": "python",
   "pygments_lexer": "ipython3",
   "version": "3.10.6"
  }
 },
 "nbformat": 4,
 "nbformat_minor": 5
}
