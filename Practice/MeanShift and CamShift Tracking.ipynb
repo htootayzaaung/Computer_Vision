{
 "cells": [
  {
   "cell_type": "code",
   "execution_count": 7,
   "id": "7bf2091c",
   "metadata": {},
   "outputs": [
    {
     "ename": "IndexError",
     "evalue": "tuple index out of range",
     "output_type": "error",
     "traceback": [
      "\u001b[0;31m---------------------------------------------------------------------------\u001b[0m",
      "\u001b[0;31mIndexError\u001b[0m                                Traceback (most recent call last)",
      "Cell \u001b[0;32mIn[7], line 12\u001b[0m\n\u001b[1;32m      8\u001b[0m face_cascade \u001b[38;5;241m=\u001b[39m cv2\u001b[38;5;241m.\u001b[39mCascadeClassifier(\u001b[38;5;124m\"\u001b[39m\u001b[38;5;124m../Datasets/haarcascades/haarcascade_frontalface_default.xml\u001b[39m\u001b[38;5;124m\"\u001b[39m)\n\u001b[1;32m     10\u001b[0m face_rects \u001b[38;5;241m=\u001b[39m face_cascade\u001b[38;5;241m.\u001b[39mdetectMultiScale(frame)\n\u001b[0;32m---> 12\u001b[0m (face_x, face_y, w, h) \u001b[38;5;241m=\u001b[39m \u001b[38;5;28mtuple\u001b[39m(\u001b[43mface_rects\u001b[49m\u001b[43m[\u001b[49m\u001b[38;5;241;43m0\u001b[39;49m\u001b[43m]\u001b[49m)\n\u001b[1;32m     14\u001b[0m track_window \u001b[38;5;241m=\u001b[39m (face_x, face_y, w, h)\n\u001b[1;32m     16\u001b[0m roi \u001b[38;5;241m=\u001b[39m frame[face_y:face_y\u001b[38;5;241m+\u001b[39mh, face_x:face_x\u001b[38;5;241m+\u001b[39mw]\n",
      "\u001b[0;31mIndexError\u001b[0m: tuple index out of range"
     ]
    }
   ],
   "source": [
    "import numpy as np\n",
    "import cv2\n",
    "\n",
    "cap = cv2.VideoCapture(0)\n",
    "\n",
    "ret, frame = cap.read()\n",
    "\n",
    "face_cascade = cv2.CascadeClassifier(\"../Datasets/haarcascades/haarcascade_frontalface_default.xml\")\n",
    "\n",
    "face_rects = face_cascade.detectMultiScale(frame)\n",
    "\n",
    "(face_x, face_y, w, h) = tuple(face_rects[0])\n",
    "\n",
    "track_window = (face_x, face_y, w, h)\n",
    "\n",
    "roi = frame[face_y:face_y+h, face_x:face_x+w]\n",
    "\n",
    "hsv_roi = cv2.cvtColor(roi, cv2.COLOR_BGR2HSV)\n",
    "\n",
    "roi_hist = cv2.calcHist([hsv_roi], [0], None, [180], [0, 180])\n",
    "\n",
    "cv2.normalize(roi_hist, roi_hist, 0, 255, cv2.NORM_MINMAX)\n",
    "\n",
    "term_crit = (cv2.TERM_CRITERIA_EPS | cv2.TERM_CRITERIA_COUNT, 10, 1)\n",
    "\n",
    "while True:\n",
    "    \n",
    "    ret, frame = cap.read()\n",
    "    \n",
    "    if ret == True:\n",
    "        \n",
    "        hsv = cv2.cvtColor(frame, cv2.COLOR_BGR2HSV)\n",
    "        \n",
    "        dst = cv2.calcBackProject([hsv], [0], roi_hist, [0, 18])\n",
    "        \n",
    "        ret, track_window = cv2.meanShift(dst, track_window, term_crit)\n",
    "        \n",
    "        x, y, w, h = track_window\n",
    "        \n",
    "        img2 = cv2.rectangle(frame, (x, y), (x + w, y + h), (0, 0, 255), 5)\n",
    "        \n",
    "        cv2.imshow('img', img2)\n",
    "        \n",
    "        k = cv2.waitKey(1) & 0xFF\n",
    "        \n",
    "        if k == 27: \n",
    "            break\n",
    "            \n",
    "cv2.destroyAllWindows()\n",
    "cv2.release()"
   ]
  }
 ],
 "metadata": {
  "kernelspec": {
   "display_name": "ai",
   "language": "python",
   "name": "ai"
  },
  "language_info": {
   "codemirror_mode": {
    "name": "ipython",
    "version": 3
   },
   "file_extension": ".py",
   "mimetype": "text/x-python",
   "name": "python",
   "nbconvert_exporter": "python",
   "pygments_lexer": "ipython3",
   "version": "3.11.4"
  }
 },
 "nbformat": 4,
 "nbformat_minor": 5
}
